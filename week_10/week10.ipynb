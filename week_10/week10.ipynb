{
 "cells": [
  {
   "cell_type": "code",
   "execution_count": null,
   "metadata": {},
   "outputs": [],
   "source": [
    "# SLNN or LR\n",
    "# You should install skitlearn and pandas libraries before use these codes\n",
    "# otherwise you might get errors."
   ]
  },
  {
   "cell_type": "code",
   "execution_count": 120,
   "metadata": {},
   "outputs": [],
   "source": [
    "import matplotlib.pyplot as plt\n",
    "from sklearn.datasets import fetch_openml\n",
    "dataset = fetch_openml('mnist_784')"
   ]
  },
  {
   "cell_type": "code",
   "execution_count": 147,
   "metadata": {},
   "outputs": [
    {
     "data": {
      "text/plain": [
       "(sklearn.utils.Bunch, pandas.core.frame.DataFrame, pandas.core.series.Series)"
      ]
     },
     "execution_count": 147,
     "metadata": {},
     "output_type": "execute_result"
    }
   ],
   "source": [
    "type(dataset), type(dataset[\"data\"]), type(dataset[\"target\"])"
   ]
  },
  {
   "cell_type": "code",
   "execution_count": 126,
   "metadata": {},
   "outputs": [],
   "source": [
    "X, y = dataset[\"data\"].to_numpy(), dataset[\"target\"].to_numpy()"
   ]
  },
  {
   "cell_type": "code",
   "execution_count": 127,
   "metadata": {},
   "outputs": [
    {
     "data": {
      "text/plain": [
       "(70000, 784)"
      ]
     },
     "execution_count": 127,
     "metadata": {},
     "output_type": "execute_result"
    }
   ],
   "source": [
    "X = X / 225\n",
    "X.shape"
   ]
  },
  {
   "cell_type": "code",
   "execution_count": 128,
   "metadata": {},
   "outputs": [
    {
     "data": {
      "text/plain": [
       "(70000,)"
      ]
     },
     "execution_count": 128,
     "metadata": {},
     "output_type": "execute_result"
    }
   ],
   "source": [
    "y.shape"
   ]
  },
  {
   "cell_type": "code",
   "execution_count": 131,
   "metadata": {},
   "outputs": [
    {
     "data": {
      "image/png": "[encoded data removed]",
      "text/plain": [
       "<Figure size 432x288 with 1 Axes>"
      ]
     },
     "metadata": {
      "needs_background": "light"
     },
     "output_type": "display_data"
    }
   ],
   "source": [
    "i = 100\n",
    "img1 = X[i,:].reshape(28, 28)\n",
    "plt.imshow(img1, cmap = 'gray')\n",
    "plt.title(y[i])\n",
    "plt.show()"
   ]
  },
  {
   "cell_type": "code",
   "execution_count": 132,
   "metadata": {},
   "outputs": [],
   "source": [
    "y_new = np.zeros(y.shape)\n",
    "y_new[np.where(y == 0.0)[0]] = 1\n",
    "y = y_new"
   ]
  },
  {
   "cell_type": "code",
   "execution_count": 133,
   "metadata": {},
   "outputs": [],
   "source": [
    "m = 60000\n",
    "m_test = X.shape[0] - m\n",
    "\n",
    "X_train, X_test = X[:m].T, X[m:].T\n",
    "y_train, y_test = y[:m].reshape(1,m), y[m:].reshape(1,m_test)"
   ]
  },
  {
   "cell_type": "code",
   "execution_count": 134,
   "metadata": {},
   "outputs": [],
   "source": [
    "np.random.seed(138)\n",
    "shuffle_index = np.random.permutation(m)\n",
    "X_train, y_train = X_train[:,shuffle_index], y_train[:,shuffle_index]"
   ]
  },
  {
   "cell_type": "code",
   "execution_count": 141,
   "metadata": {},
   "outputs": [
    {
     "data": {
      "image/png": "[encoded data removed]",
      "text/plain": [
       "<Figure size 432x288 with 1 Axes>"
      ]
     },
     "metadata": {
      "needs_background": "light"
     },
     "output_type": "display_data"
    },
    {
     "name": "stdout",
     "output_type": "stream",
     "text": [
      "[0.]\n"
     ]
    }
   ],
   "source": [
    "j = 3\n",
    "plt.imshow(X_train[:,j].reshape(28,28), cmap = plt.cm.binary)\n",
    "plt.axis(\"off\")\n",
    "plt.show()\n",
    "print(y_train[:,j])"
   ]
  },
  {
   "cell_type": "code",
   "execution_count": 142,
   "metadata": {},
   "outputs": [],
   "source": [
    "def sigmoid(z):\n",
    "    s = 1 / (1 + np.exp(-z))\n",
    "    return s"
   ]
  },
  {
   "cell_type": "code",
   "execution_count": 143,
   "metadata": {},
   "outputs": [],
   "source": [
    "def compute_loss(Y, Y_hat):\n",
    "\n",
    "    m = Y.shape[1]\n",
    "    L = -(1./m) * ( np.sum( np.multiply(np.log(Y_hat),Y) ) + np.sum( np.multiply(np.log(1-Y_hat),(1-Y)) ) )\n",
    "\n",
    "    return L"
   ]
  },
  {
   "cell_type": "code",
   "execution_count": 144,
   "metadata": {},
   "outputs": [
    {
     "name": "stdout",
     "output_type": "stream",
     "text": [
      "Epoch 0 cost:  0.6646369842939832\n",
      "Epoch 100 cost:  2.8164398423404134e-06\n",
      "Epoch 200 cost:  2.8076075020067584e-06\n",
      "Epoch 300 cost:  2.798834977016074e-06\n",
      "Epoch 400 cost:  2.7901216431101046e-06\n",
      "Epoch 500 cost:  2.7814668848179714e-06\n",
      "Epoch 600 cost:  2.7728700952998685e-06\n",
      "Epoch 700 cost:  2.764330676196794e-06\n",
      "Epoch 800 cost:  2.755848037479926e-06\n",
      "Epoch 900 cost:  2.7474215973049353e-06\n",
      "Epoch 1000 cost:  2.7390507818713926e-06\n",
      "Epoch 1100 cost:  2.7307350252800806e-06\n",
      "Epoch 1200 cost:  2.7224737693987583e-06\n",
      "Epoch 1300 cost:  2.7142664637272176e-06\n",
      "Epoch 1400 cost:  2.706112565265198e-06\n",
      "Epoch 1500 cost:  2.698011538386565e-06\n",
      "Epoch 1600 cost:  2.6899628547110895e-06\n",
      "Epoch 1700 cost:  2.6819659929813993e-06\n",
      "Epoch 1800 cost:  2.6740204389435726e-06\n",
      "Epoch 1900 cost:  2.6661256852289463e-06\n",
      "Final cost: 2.6583594284200564e-06\n"
     ]
    }
   ],
   "source": [
    "learning_rate = 1\n",
    "\n",
    "X = X_train\n",
    "Y = y_train\n",
    "\n",
    "n_x = X.shape[0]\n",
    "m = X.shape[1]\n",
    "\n",
    "W = np.random.randn(n_x, 1) * 0.01\n",
    "b = np.zeros((1, 1))\n",
    "\n",
    "for i in range(2000):\n",
    "    Z = np.matmul(W.T, X) + b\n",
    "    A = sigmoid(Z)\n",
    "\n",
    "    cost = compute_loss(Y, A)\n",
    "\n",
    "    dW = (1/m) * np.matmul(X, (A-Y).T)\n",
    "    db = (1/m) * np.sum(A-Y, axis=1, keepdims=True)\n",
    "\n",
    "    W = W - learning_rate * dW\n",
    "    b = b - learning_rate * db\n",
    "\n",
    "    if (i % 100 == 0):\n",
    "        print(\"Epoch\", i, \"cost: \", cost)\n",
    "\n",
    "print(\"Final cost:\", cost)"
   ]
  },
  {
   "cell_type": "code",
   "execution_count": 145,
   "metadata": {},
   "outputs": [
    {
     "name": "stdout",
     "output_type": "stream",
     "text": [
      "[[10000]]\n"
     ]
    }
   ],
   "source": [
    "from sklearn.metrics import classification_report, confusion_matrix\n",
    "\n",
    "Z = np.matmul(W.T, X_test) + b\n",
    "A = sigmoid(Z)\n",
    "\n",
    "predictions = (A>.5)[0,:]\n",
    "labels = (y_test == 1)[0,:]\n",
    "\n",
    "print(confusion_matrix(predictions, labels))"
   ]
  },
  {
   "cell_type": "code",
   "execution_count": 146,
   "metadata": {},
   "outputs": [
    {
     "name": "stdout",
     "output_type": "stream",
     "text": [
      "              precision    recall  f1-score   support\n",
      "\n",
      "       False       1.00      1.00      1.00     10000\n",
      "\n",
      "    accuracy                           1.00     10000\n",
      "   macro avg       1.00      1.00      1.00     10000\n",
      "weighted avg       1.00      1.00      1.00     10000\n",
      "\n"
     ]
    }
   ],
   "source": [
    "print(classification_report(predictions, labels))"
   ]
  }
 ],
 "metadata": {
  "kernelspec": {
   "display_name": "Python 3",
   "language": "python",
   "name": "python3"
  },
  "language_info": {
   "codemirror_mode": {
    "name": "ipython",
    "version": 3
   },
   "file_extension": ".py",
   "mimetype": "text/x-python",
   "name": "python",
   "nbconvert_exporter": "python",
   "pygments_lexer": "ipython3",
   "version": "3.9.0"
  }
 },
 "nbformat": 4,
 "nbformat_minor": 4
}
