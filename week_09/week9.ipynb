{
 "cells": [
  {
   "cell_type": "code",
   "execution_count": 1,
   "metadata": {},
   "outputs": [],
   "source": [
    "#perceptron"
   ]
  },
  {
   "cell_type": "code",
   "execution_count": 2,
   "metadata": {},
   "outputs": [
    {
     "data": {
      "text/plain": [
       "('C:\\\\Users\\\\kochallibrhm\\\\Desktop\\\\Ders\\\\Görüntü İşleme\\\\week_09',\n",
       " ['.ipynb_checkpoints',\n",
       "  'debug.log',\n",
       "  'kordon.jpg',\n",
       "  'penguins.jfif',\n",
       "  'README.MD',\n",
       "  'week9.ipynb'])"
      ]
     },
     "execution_count": 2,
     "metadata": {},
     "output_type": "execute_result"
    }
   ],
   "source": [
    "import os\n",
    "import matplotlib.pyplot as plt\n",
    "import numpy as np\n",
    "import matplotlib.image as mpimg\n",
    "%matplotlib inline\n",
    "os.getcwd(),os.listdir()\n"
   ]
  },
  {
   "cell_type": "code",
   "execution_count": 37,
   "metadata": {},
   "outputs": [],
   "source": [
    "class Perceptron(object):\n",
    "    \"\"\"Implements a perceptron network\"\"\"\n",
    "        \n",
    "    def __init__(self, input_size, lr=1, epochs=10):\n",
    "        self.W = np.zeros(input_size+1)\n",
    "        # add one for bias\n",
    "        self.epochs = epochs\n",
    "        self.lr = lr\n",
    "\n",
    "    def activation_fn(self, x):\n",
    "        return 1 if x >= 0 else 0\n",
    "    \n",
    "    def predict(self, x):\n",
    "        x = np.insert(x, 0, 1)\n",
    "        z = self.W.T.dot(x)\n",
    "        a = self.activation_fn(z)\n",
    "        return a\n",
    "\n",
    "    def fit(self, X, d):\n",
    "        for _ in range(self.epochs):\n",
    "            for i in range(d.shape[0]):\n",
    "                y = self.predict(X[i])\n",
    "                e = d[i] - y\n",
    "                self.W = self.W + self.lr * e * np.insert(X[i], 0, 1)\n",
    "\n",
    "# 1. PERCEPTRON CLASS TANIMININDA VAR OLAN FONKSIYONLARI KISACA TANITINIZ.\n",
    "\n",
    "\"\"\"\n",
    "    Cevap:\n",
    "\n",
    "\n",
    "    1 - def __init__(self, input_size, lr=1, epochs=10)  \n",
    "\n",
    "            Bu fonskiyon bizim \"constructor\"ımız. \"epochs\" ve \"lr\" değişkenleri default olarak set edilmiş\n",
    "        ve oluşturulan nesneye atanıyor. W parametresine sıfırlardan oluşan bir dizi set ediyoruz. Girdi boyutuna artı bir\n",
    "        eklememizin nedeni, ağırlık vektörüne sapmayı dahil etmektir. \n",
    "        \n",
    "        Öğrenme Hızı(LR): Her bir ağırlık her güncellendiğinde düzeltilen miktarı sınırlamak için kullanılır. \n",
    "        Epochs: Ağırlık güncellenirken pratik verilerinin kaç kez çalıştırılacağı.\n",
    "\n",
    "\n",
    "    2 - def activation_fn(self, x) \n",
    "            \n",
    "            Bu fonksiyon üretilen x değerini kontrol ediyor. X sıfırdan büyükse 1 değilse 0 döndürüyor. \n",
    "        Bu şekilde, Perceptron, iki sınıfı ayırmak için doğrusal bir denklemin (benzer veya hiper düzlem)\n",
    "        kullanılabileceği iki sınıflı (0 ve 1) problemler için bir sınıflandırma yapıyor.\n",
    "    \n",
    "    \n",
    "    3 - def predict(self, x)\n",
    "            \n",
    "            Gelen x değerinin 0. indexine 1'i insert ediyor ve daha sonra bu değeri yukarıda oluşturduğu W'nin\n",
    "        transpozesi ile dot product işlemine tabi tutuyor ve tek bir çıktı elde ediyor. Buradan çıkan sonucu da \n",
    "        def activation_fn fonksiyonuna gönderiyor buradan gelen sonucu return ediyor.\n",
    "    \n",
    "    \n",
    "    4 - def fit(self, X, d)\n",
    "            \n",
    "            X'in içerisindeki veri kadar dönüp e = d - y formülü kullanarak error u buluyoruz ve ardından\n",
    "         w <-- w + n . e . x formülünü uyguluyoruz.\n",
    "\n",
    "\n",
    "\"\"\""
   ]
  },
  {
   "cell_type": "code",
   "execution_count": 50,
   "metadata": {},
   "outputs": [
    {
     "data": {
      "text/plain": [
       "array([0., 0., 0.])"
      ]
     },
     "execution_count": 50,
     "metadata": {},
     "output_type": "execute_result"
    }
   ],
   "source": [
    "# 2. XOR İÇİN VERİLERİ DEĞİŞTİRİP ÇALIŞMASINI GÖZLEMLEYİNİZ.\n",
    "\n",
    "\"\"\" Cevap: \"\"\"\n",
    "\n",
    "d_2 = np.array([0, 1, 1, 0]) # XOR\n",
    "\n",
    "perceptron_2 = Perceptron(input_size=2)\n",
    "perceptron_2.W"
   ]
  },
  {
   "cell_type": "code",
   "execution_count": 51,
   "metadata": {},
   "outputs": [
    {
     "name": "stdout",
     "output_type": "stream",
     "text": [
      "[ 0. -1.  0.]\n"
     ]
    }
   ],
   "source": [
    "perceptron_2.fit(X, d_2)\n",
    "print(perceptron_2.W)      \"\"\"  XOR İÇİN SONUÇTA GÖRÜLDÜĞÜ ÜZERE [ 0. -1.  0.] değerleri karşımıza çıkmakta \"\"\""
   ]
  },
  {
   "cell_type": "code",
   "execution_count": null,
   "metadata": {},
   "outputs": [],
   "source": []
  },
  {
   "cell_type": "code",
   "execution_count": null,
   "metadata": {},
   "outputs": [],
   "source": [
    "# 4. BU MODELIN HATASI NASIL ELDE EDILIR, KENDI ÇÖZÜMÜNÜZÜ/YORUMUNUZU YAZINIZ.\n",
    "\n",
    "\"\"\"\n",
    "    Cevap:\n",
    "        \n",
    "            Hatayı istenen çıktı ile tahmin edilen çıktı arasındaki farktan yararlanarak bulabiliriz. Bu fark bize tahminimizde\n",
    "        ne kadarlık bir sapma yapmış olduğumuzu gösterecektir. Yapılan hatanın boyutu da burdan ölçülebilir. Ya da bu farkı\n",
    "        direkt olarak hata diye tanımlayabiliriz.\n",
    "        \n",
    "\n",
    "\"\"\""
   ]
  },
  {
   "cell_type": "code",
   "execution_count": 21,
   "metadata": {},
   "outputs": [
    {
     "data": {
      "text/plain": [
       "array([0., 0., 0., 0., 0., 0.])"
      ]
     },
     "execution_count": 21,
     "metadata": {},
     "output_type": "execute_result"
    }
   ],
   "source": [
    "mp = Perceptron(5)\n",
    "mp.W"
   ]
  },
  {
   "cell_type": "code",
   "execution_count": 30,
   "metadata": {},
   "outputs": [
    {
     "data": {
      "text/plain": [
       "(1, 0)"
      ]
     },
     "execution_count": 30,
     "metadata": {},
     "output_type": "execute_result"
    }
   ],
   "source": [
    "mp.activation_fn(10), mp.activation_fn(-10)\n"
   ]
  },
  {
   "cell_type": "code",
   "execution_count": 25,
   "metadata": {},
   "outputs": [
    {
     "data": {
      "text/plain": [
       "array([1, 2, 3, 4, 5])"
      ]
     },
     "execution_count": 25,
     "metadata": {},
     "output_type": "execute_result"
    }
   ],
   "source": [
    "x = np.asarray([1, 2, 3, 4, 5])\n",
    "x"
   ]
  },
  {
   "cell_type": "code",
   "execution_count": 26,
   "metadata": {},
   "outputs": [
    {
     "data": {
      "text/plain": [
       "1"
      ]
     },
     "execution_count": 26,
     "metadata": {},
     "output_type": "execute_result"
    }
   ],
   "source": [
    "mp.predict(x)"
   ]
  },
  {
   "cell_type": "code",
   "execution_count": 28,
   "metadata": {},
   "outputs": [
    {
     "data": {
      "text/plain": [
       "1"
      ]
     },
     "execution_count": 28,
     "metadata": {},
     "output_type": "execute_result"
    }
   ],
   "source": [
    "x = np.asarray([-10, -2, -30, 4, -50])\n",
    "mp.predict(x)"
   ]
  },
  {
   "cell_type": "code",
   "execution_count": 33,
   "metadata": {},
   "outputs": [
    {
     "data": {
      "text/plain": [
       "array([[0, 0],\n",
       "       [0, 1],\n",
       "       [1, 0],\n",
       "       [1, 1]])"
      ]
     },
     "execution_count": 33,
     "metadata": {},
     "output_type": "execute_result"
    }
   ],
   "source": [
    "if __name__ == '__main__':\n",
    "    X = np.array([\n",
    "        [0, 0],\n",
    "        [0, 1],\n",
    "        [1, 0],\n",
    "        [1, 1]\n",
    "    ])\n",
    "\n",
    "X"
   ]
  },
  {
   "cell_type": "code",
   "execution_count": 34,
   "metadata": {},
   "outputs": [
    {
     "data": {
      "text/plain": [
       "array([0, 0, 0, 1])"
      ]
     },
     "execution_count": 34,
     "metadata": {},
     "output_type": "execute_result"
    }
   ],
   "source": [
    "d = np.array([0, 0, 0, 1])\n",
    "d"
   ]
  },
  {
   "cell_type": "code",
   "execution_count": 39,
   "metadata": {},
   "outputs": [
    {
     "data": {
      "text/plain": [
       "array([0., 0., 0.])"
      ]
     },
     "execution_count": 39,
     "metadata": {},
     "output_type": "execute_result"
    }
   ],
   "source": [
    "perceptron = Perceptron(input_size=2)\n",
    "perceptron.W"
   ]
  },
  {
   "cell_type": "code",
   "execution_count": 40,
   "metadata": {},
   "outputs": [
    {
     "name": "stdout",
     "output_type": "stream",
     "text": [
      "[-3.  2.  1.]\n"
     ]
    }
   ],
   "source": [
    "perceptron.fit(X, d)\n",
    "print(perceptron.W)"
   ]
  }
 ],
 "metadata": {
  "kernelspec": {
   "display_name": "Python 3",
   "language": "python",
   "name": "python3"
  },
  "language_info": {
   "codemirror_mode": {
    "name": "ipython",
    "version": 3
   },
   "file_extension": ".py",
   "mimetype": "text/x-python",
   "name": "python",
   "nbconvert_exporter": "python",
   "pygments_lexer": "ipython3",
   "version": "3.9.0"
  }
 },
 "nbformat": 4,
 "nbformat_minor": 4
}
