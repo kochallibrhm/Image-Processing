{
 "cells": [
  {
   "cell_type": "markdown",
   "metadata": {},
   "source": [
    "# Multiclass Neural Network With Own Signatures Data Set"
   ]
  },
  {
   "cell_type": "markdown",
   "metadata": {},
   "source": [
    "## Creating the data set from own cropped signature images"
   ]
  },
  {
   "cell_type": "code",
   "execution_count": 1,
   "metadata": {},
   "outputs": [],
   "source": [
    "import os\n",
    "from os.path import isfile\n",
    "import matplotlib.pyplot as plt\n",
    "import numpy as np\n",
    "import os\n",
    "from skimage.transform import resize\n",
    "from PIL import Image\n",
    "import sys"
   ]
  },
  {
   "cell_type": "markdown",
   "metadata": {},
   "source": [
    "### Converting jpg files to png\n",
    "       We have a png file that we create for each jpg file as we can see below."
   ]
  },
  {
   "cell_type": "code",
   "execution_count": 6,
   "metadata": {},
   "outputs": [
    {
     "data": {
      "text/plain": [
       "['.ipynb_checkpoints',\n",
       " '160401027',\n",
       " '160401043',\n",
       " '160401048',\n",
       " '170401011',\n",
       " '170401070']"
      ]
     },
     "execution_count": 6,
     "metadata": {},
     "output_type": "execute_result"
    }
   ],
   "source": [
    "newfolderpath = './New folder/'\n",
    "os.listdir(newfolderpath)"
   ]
  },
  {
   "cell_type": "code",
   "execution_count": 8,
   "metadata": {},
   "outputs": [],
   "source": [
    "files = os.listdir(newfolderpath)\n",
    "for file in files:\n",
    "    images = os.listdir(newfolderpath+file)\n",
    "    for img in images:\n",
    "        if img.split('.')[1] == 'jpg':\n",
    "            Image.open(path + file + '/' + img).save(path + file + '/' + img.split('.')[0] + '.png')\n",
    "            # We are saving jpg files as png"
   ]
  },
  {
   "cell_type": "markdown",
   "metadata": {},
   "source": [
    "### Reading images and creating labels"
   ]
  },
  {
   "cell_type": "code",
   "execution_count": 126,
   "metadata": {},
   "outputs": [
    {
     "data": {
      "text/plain": [
       "['150401006',\n",
       " '150401043',\n",
       " '150401051',\n",
       " '160401002',\n",
       " '160401025',\n",
       " '160401027',\n",
       " '160401043',\n",
       " '160401048',\n",
       " '160401050',\n",
       " '160401051',\n",
       " '170401011',\n",
       " '170401012',\n",
       " '170401018',\n",
       " '170401025',\n",
       " '170401040',\n",
       " '170401070',\n",
       " '170401073',\n",
       " '170401076']"
      ]
     },
     "execution_count": 126,
     "metadata": {},
     "output_type": "execute_result"
    }
   ],
   "source": [
    "path = './data_signature/'\n",
    "os.listdir(path)"
   ]
  },
  {
   "cell_type": "code",
   "execution_count": 221,
   "metadata": {},
   "outputs": [
    {
     "name": "stdout",
     "output_type": "stream",
     "text": [
      "150401006\n",
      "150401043\n",
      "150401051\n",
      "160401002\n",
      "160401025\n",
      "160401027\n",
      "160401043\n",
      "160401048\n",
      "160401050\n",
      "160401051\n",
      "170401011\n",
      "170401012\n",
      "170401018\n",
      "170401025\n",
      "170401040\n",
      "170401070\n",
      "170401073\n",
      "170401076\n"
     ]
    }
   ],
   "source": [
    "folders = os.listdir(path)\n",
    "list_of_img = []\n",
    "imglabels = {'150401006':'0', '150401043':'1', '150401051':'2', \n",
    "            '160401002':'3', '160401025':'4', '160401027':'5', '160401043':'6', '160401048':'7', '160401050':'8', \n",
    "            '160401051':'9', '170401011':'10', '170401012':'11', '170401018':'12', '170401025':'13', '170401040':'14', \n",
    "            '170401070':'15', '170401073':'16', '170401076':'17'}\n",
    "y = []\n",
    "X_test = []\n",
    "y_test = []\n",
    "\n",
    "for folder in folders:\n",
    "    \n",
    "    print(folder)\n",
    "    for i in range(1,32):\n",
    "        imgpath = path + folder + '/' + folder + '_'\n",
    "        if i<10:\n",
    "            imgpath = imgpath + '0' + str(i) + '_cropped_.png'\n",
    "        elif i>10 and i!=31:\n",
    "            imgpath = imgpath + str(i) + '_cropped_.png'\n",
    "        else:\n",
    "            imgpath = imgpath + 'test_cropped_.png'\n",
    "\n",
    "        img = plt.imread(imgpath)\n",
    "        \n",
    "        img = img[:,:,0]\n",
    "        img = resize(img, (200, 200))\n",
    "        img = np.ndarray.flatten(img)\n",
    "        \n",
    "        if i==31:\n",
    "            X_test.append(img)\n",
    "            y_test.append(imglabels[folder])\n",
    "        \n",
    "        else:\n",
    "            list_of_img.append(img)\n",
    "            y.append(imglabels[folder])"
   ]
  },
  {
   "cell_type": "code",
   "execution_count": 222,
   "metadata": {},
   "outputs": [
    {
     "data": {
      "text/plain": [
       "540"
      ]
     },
     "execution_count": 222,
     "metadata": {},
     "output_type": "execute_result"
    }
   ],
   "source": [
    "len(list_of_img)"
   ]
  },
  {
   "cell_type": "markdown",
   "metadata": {},
   "source": [
    "### Creating X, y, X_test, y_test"
   ]
  },
  {
   "cell_type": "code",
   "execution_count": 223,
   "metadata": {},
   "outputs": [],
   "source": [
    "X = np.array(list_of_img)\n",
    "y = np.array(y, dtype=object)"
   ]
  },
  {
   "cell_type": "code",
   "execution_count": 224,
   "metadata": {},
   "outputs": [],
   "source": [
    "X_test = np.array(X_test)\n",
    "y_test = np.array(y_test, dtype=object)"
   ]
  },
  {
   "cell_type": "code",
   "execution_count": 225,
   "metadata": {},
   "outputs": [
    {
     "data": {
      "image/png": "[encoded data removed]",
      "text/plain": [
       "<Figure size 432x288 with 1 Axes>"
      ]
     },
     "metadata": {
      "needs_background": "light"
     },
     "output_type": "display_data"
    },
    {
     "name": "stdout",
     "output_type": "stream",
     "text": [
      "4\n"
     ]
    }
   ],
   "source": [
    "i = 140\n",
    "plt.imshow(X[i].reshape(200,200), cmap ='gray')\n",
    "plt.axis(\"off\")\n",
    "plt.show()\n",
    "print(y[i])"
   ]
  },
  {
   "cell_type": "code",
   "execution_count": 226,
   "metadata": {},
   "outputs": [
    {
     "data": {
      "text/plain": [
       "((540, 40000), (540,), ((18, 40000), (18,)))"
      ]
     },
     "execution_count": 226,
     "metadata": {},
     "output_type": "execute_result"
    }
   ],
   "source": [
    "(X.shape), (y.shape), (X_test.shape, y_test.shape)"
   ]
  },
  {
   "cell_type": "code",
   "execution_count": 227,
   "metadata": {},
   "outputs": [
    {
     "data": {
      "text/plain": [
       "array(['0', '0', '0', '0', '0', '0', '0', '0', '0', '0', '0', '0', '0',\n",
       "       '0', '0', '0', '0', '0', '0', '0', '0', '0', '0', '0', '0', '0',\n",
       "       '0', '0', '0', '0', '1', '1', '1', '1', '1', '1', '1', '1', '1',\n",
       "       '1', '1', '1', '1', '1', '1', '1', '1', '1', '1', '1', '1', '1',\n",
       "       '1', '1', '1', '1', '1', '1', '1', '1', '2', '2', '2', '2', '2',\n",
       "       '2', '2', '2', '2', '2', '2', '2', '2', '2', '2', '2', '2', '2',\n",
       "       '2', '2', '2', '2', '2', '2', '2', '2', '2', '2', '2', '2', '3',\n",
       "       '3', '3', '3', '3', '3', '3', '3', '3', '3', '3', '3', '3', '3',\n",
       "       '3', '3', '3', '3', '3', '3', '3', '3', '3', '3', '3', '3', '3',\n",
       "       '3', '3', '3', '4', '4', '4', '4', '4', '4', '4', '4', '4', '4',\n",
       "       '4', '4', '4', '4', '4', '4', '4', '4', '4', '4', '4', '4', '4',\n",
       "       '4', '4', '4', '4', '4', '4', '4', '5', '5', '5', '5', '5', '5',\n",
       "       '5', '5', '5', '5', '5', '5', '5', '5', '5', '5', '5', '5', '5',\n",
       "       '5', '5', '5', '5', '5', '5', '5', '5', '5', '5', '5', '6', '6',\n",
       "       '6', '6', '6', '6', '6', '6', '6', '6', '6', '6', '6', '6', '6',\n",
       "       '6', '6', '6', '6', '6', '6', '6', '6', '6', '6', '6', '6', '6',\n",
       "       '6', '6', '7', '7', '7', '7', '7', '7', '7', '7', '7', '7', '7',\n",
       "       '7', '7', '7', '7', '7', '7', '7', '7', '7', '7', '7', '7', '7',\n",
       "       '7', '7', '7', '7', '7', '7', '8', '8', '8', '8', '8', '8', '8',\n",
       "       '8', '8', '8', '8', '8', '8', '8', '8', '8', '8', '8', '8', '8',\n",
       "       '8', '8', '8', '8', '8', '8', '8', '8', '8', '8', '9', '9', '9',\n",
       "       '9', '9', '9', '9', '9', '9', '9', '9', '9', '9', '9', '9', '9',\n",
       "       '9', '9', '9', '9', '9', '9', '9', '9', '9', '9', '9', '9', '9',\n",
       "       '9', '10', '10', '10', '10', '10', '10', '10', '10', '10', '10',\n",
       "       '10', '10', '10', '10', '10', '10', '10', '10', '10', '10', '10',\n",
       "       '10', '10', '10', '10', '10', '10', '10', '10', '10', '11', '11',\n",
       "       '11', '11', '11', '11', '11', '11', '11', '11', '11', '11', '11',\n",
       "       '11', '11', '11', '11', '11', '11', '11', '11', '11', '11', '11',\n",
       "       '11', '11', '11', '11', '11', '11', '12', '12', '12', '12', '12',\n",
       "       '12', '12', '12', '12', '12', '12', '12', '12', '12', '12', '12',\n",
       "       '12', '12', '12', '12', '12', '12', '12', '12', '12', '12', '12',\n",
       "       '12', '12', '12', '13', '13', '13', '13', '13', '13', '13', '13',\n",
       "       '13', '13', '13', '13', '13', '13', '13', '13', '13', '13', '13',\n",
       "       '13', '13', '13', '13', '13', '13', '13', '13', '13', '13', '13',\n",
       "       '14', '14', '14', '14', '14', '14', '14', '14', '14', '14', '14',\n",
       "       '14', '14', '14', '14', '14', '14', '14', '14', '14', '14', '14',\n",
       "       '14', '14', '14', '14', '14', '14', '14', '14', '15', '15', '15',\n",
       "       '15', '15', '15', '15', '15', '15', '15', '15', '15', '15', '15',\n",
       "       '15', '15', '15', '15', '15', '15', '15', '15', '15', '15', '15',\n",
       "       '15', '15', '15', '15', '15', '16', '16', '16', '16', '16', '16',\n",
       "       '16', '16', '16', '16', '16', '16', '16', '16', '16', '16', '16',\n",
       "       '16', '16', '16', '16', '16', '16', '16', '16', '16', '16', '16',\n",
       "       '16', '16', '17', '17', '17', '17', '17', '17', '17', '17', '17',\n",
       "       '17', '17', '17', '17', '17', '17', '17', '17', '17', '17', '17',\n",
       "       '17', '17', '17', '17', '17', '17', '17', '17', '17', '17'],\n",
       "      dtype=object)"
      ]
     },
     "execution_count": 227,
     "metadata": {},
     "output_type": "execute_result"
    }
   ],
   "source": [
    "y"
   ]
  },
  {
   "cell_type": "code",
   "execution_count": 228,
   "metadata": {},
   "outputs": [
    {
     "data": {
      "text/plain": [
       "(540, 40000)"
      ]
     },
     "execution_count": 228,
     "metadata": {},
     "output_type": "execute_result"
    }
   ],
   "source": [
    "X = X / 255\n",
    "X_test = X_test / 255\n",
    "X.shape"
   ]
  },
  {
   "cell_type": "code",
   "execution_count": 229,
   "metadata": {},
   "outputs": [],
   "source": [
    "digits = 18\n",
    "\n",
    "examples = y.shape[0]\n",
    "\n",
    "y = y.reshape(1, examples)\n",
    "\n",
    "Y_new = np.eye(digits)[y.astype('int32')]\n",
    "Y_new = Y_new.T.reshape(digits, examples)"
   ]
  },
  {
   "cell_type": "code",
   "execution_count": 230,
   "metadata": {},
   "outputs": [],
   "source": [
    "digits = 18\n",
    "\n",
    "examples = y_test.shape[0]\n",
    "\n",
    "y_test = y_test.reshape(1, examples)\n",
    "\n",
    "Yt_new = np.eye(digits)[y_test.astype('int32')]\n",
    "Yt_new = Yt_new.T.reshape(digits, examples)"
   ]
  },
  {
   "cell_type": "code",
   "execution_count": 231,
   "metadata": {},
   "outputs": [
    {
     "data": {
      "text/plain": [
       "(((1, 540), (18, 540)), ((1, 18), (18, 18)))"
      ]
     },
     "execution_count": 231,
     "metadata": {},
     "output_type": "execute_result"
    }
   ],
   "source": [
    "(y.shape, Y_new.shape), (y_test.shape, Yt_new.shape)"
   ]
  },
  {
   "cell_type": "code",
   "execution_count": 232,
   "metadata": {},
   "outputs": [],
   "source": [
    "m = 540\n",
    "m_test = X.shape[0] - m\n",
    "\n",
    "#X_train, X_test = X[:m].T, X[m:].T\n",
    "#Y_train, Y_test = Y_new[:,:m], Y_new[:,m:]\n",
    "X_train = X[:m].T\n",
    "Y_train = Y_new[:,:m]\n",
    "X_test = X_test.T\n",
    "Y_test = Yt_new\n",
    "\n",
    "shuffle_index = np.random.permutation(m)\n",
    "X_train, Y_train = X_train[:,shuffle_index], Y_train[:, shuffle_index]"
   ]
  },
  {
   "cell_type": "code",
   "execution_count": 263,
   "metadata": {},
   "outputs": [
    {
     "data": {
      "image/png": "[encoded data removed]",
      "text/plain": [
       "<Figure size 432x288 with 1 Axes>"
      ]
     },
     "metadata": {
      "needs_background": "light"
     },
     "output_type": "display_data"
    },
    {
     "data": {
      "text/plain": [
       "array([0., 0., 0., 0., 1., 0., 0., 0., 0., 0., 0., 0., 0., 0., 0., 0., 0.,\n",
       "       0.])"
      ]
     },
     "execution_count": 263,
     "metadata": {},
     "output_type": "execute_result"
    }
   ],
   "source": [
    "i = 1\n",
    "plt.imshow(X_train[:,i].reshape(200,200), cmap = 'gray')\n",
    "plt.axis(\"off\")\n",
    "plt.show()\n",
    "Y_train[:,i]"
   ]
  },
  {
   "cell_type": "markdown",
   "metadata": {},
   "source": [
    "## Creating Model and Training it"
   ]
  },
  {
   "cell_type": "markdown",
   "metadata": {},
   "source": [
    "### Creating the functions that we need for our model"
   ]
  },
  {
   "cell_type": "code",
   "execution_count": 240,
   "metadata": {},
   "outputs": [],
   "source": [
    "def sigmoid(z):\n",
    "    s = 1 / (1 + np.exp(-z))\n",
    "    return s"
   ]
  },
  {
   "cell_type": "code",
   "execution_count": 241,
   "metadata": {},
   "outputs": [],
   "source": [
    "def compute_multiclass_loss(Y, Y_hat):\n",
    "\n",
    "    L_sum = np.sum(np.multiply(Y, np.log(Y_hat)))\n",
    "    m = Y.shape[1]\n",
    "    L = -(1/m) * L_sum\n",
    "\n",
    "    return L"
   ]
  },
  {
   "cell_type": "markdown",
   "metadata": {},
   "source": [
    "### Giving the signature data to our model and training it"
   ]
  },
  {
   "cell_type": "code",
   "execution_count": 242,
   "metadata": {},
   "outputs": [
    {
     "name": "stdout",
     "output_type": "stream",
     "text": [
      "Epoch 0 cost:  8.871927005320478\n",
      "Epoch 100 cost:  2.5296359835085025\n",
      "Epoch 200 cost:  2.2282585519293328\n",
      "Epoch 300 cost:  1.9743259754629565\n",
      "Epoch 400 cost:  1.7441666064989132\n",
      "Epoch 500 cost:  1.5373054322507693\n",
      "Epoch 600 cost:  1.3547307400211817\n",
      "Epoch 700 cost:  1.1956405024322112\n",
      "Epoch 800 cost:  1.058167664778491\n",
      "Epoch 900 cost:  0.9400175588430137\n",
      "Epoch 1000 cost:  0.8387741719620617\n",
      "Epoch 1100 cost:  0.7520792595671855\n",
      "Epoch 1200 cost:  0.6777441168853691\n",
      "Epoch 1300 cost:  0.6138130609905169\n",
      "Epoch 1400 cost:  0.5585907193822097\n",
      "Epoch 1500 cost:  0.5106418000574803\n",
      "Epoch 1600 cost:  0.46877191663242795\n",
      "Epoch 1700 cost:  0.43199807420570085\n",
      "Epoch 1800 cost:  0.3995158477349434\n",
      "Epoch 1900 cost:  0.3706678427000408\n",
      "Final cost: 0.34515951715804355\n"
     ]
    }
   ],
   "source": [
    "n_x = X_train.shape[0]\n",
    "n_h = 64\n",
    "learning_rate = 1\n",
    "\n",
    "W1 = np.random.randn(n_h, n_x)\n",
    "b1 = np.zeros((n_h, 1))\n",
    "W2 = np.random.randn(digits, n_h)\n",
    "b2 = np.zeros((digits, 1))\n",
    "\n",
    "X = X_train\n",
    "Y = Y_train\n",
    "\n",
    "for i in range(2000):\n",
    "\n",
    "    Z1 = np.matmul(W1,X) + b1\n",
    "    A1 = sigmoid(Z1)\n",
    "    Z2 = np.matmul(W2,A1) + b2\n",
    "    A2 = np.exp(Z2) / np.sum(np.exp(Z2), axis=0)\n",
    "\n",
    "    cost = compute_multiclass_loss(Y, A2)\n",
    "\n",
    "    dZ2 = A2-Y\n",
    "    dW2 = (1./m) * np.matmul(dZ2, A1.T)\n",
    "    db2 = (1./m) * np.sum(dZ2, axis=1, keepdims=True)\n",
    "\n",
    "    dA1 = np.matmul(W2.T, dZ2)\n",
    "    dZ1 = dA1 * sigmoid(Z1) * (1 - sigmoid(Z1))\n",
    "    dW1 = (1./m) * np.matmul(dZ1, X.T)\n",
    "    db1 = (1./m) * np.sum(dZ1, axis=1, keepdims=True)\n",
    "\n",
    "    W2 = W2 - learning_rate * dW2\n",
    "    b2 = b2 - learning_rate * db2\n",
    "    W1 = W1 - learning_rate * dW1\n",
    "    b1 = b1 - learning_rate * db1\n",
    "\n",
    "    if (i % 100 == 0):\n",
    "        print(\"Epoch\", i, \"cost: \", cost)\n",
    "\n",
    "print(\"Final cost:\", cost)"
   ]
  },
  {
   "cell_type": "markdown",
   "metadata": {},
   "source": [
    "### Confusion matrix and f1-scores "
   ]
  },
  {
   "cell_type": "code",
   "execution_count": 243,
   "metadata": {},
   "outputs": [
    {
     "name": "stdout",
     "output_type": "stream",
     "text": [
      "[[1 0 0 0 0 0 0 0 0 0 0 0 0 0 0 0 0 0]\n",
      " [0 1 0 0 0 0 0 0 0 0 0 0 0 0 0 0 0 0]\n",
      " [0 0 1 0 0 0 0 0 0 0 0 0 0 0 0 0 0 0]\n",
      " [0 0 0 1 0 0 0 0 0 0 0 0 0 0 0 0 0 0]\n",
      " [0 0 0 0 1 0 0 0 0 0 0 0 0 0 0 0 0 0]\n",
      " [0 0 0 0 0 1 0 0 0 0 0 0 0 0 0 0 0 0]\n",
      " [0 0 0 0 0 0 1 0 0 0 0 0 0 0 0 0 0 0]\n",
      " [0 0 0 0 0 0 0 1 0 0 0 0 0 0 0 0 0 0]\n",
      " [0 0 0 0 0 0 0 0 1 0 0 0 0 0 0 0 0 0]\n",
      " [0 0 0 0 0 0 0 0 0 1 0 0 0 0 0 0 0 0]\n",
      " [0 0 0 0 0 0 0 0 0 0 1 0 0 0 0 0 0 0]\n",
      " [0 0 0 0 0 0 0 0 0 0 0 1 0 0 0 0 0 0]\n",
      " [0 0 0 0 0 0 0 0 0 0 0 0 1 0 0 0 0 0]\n",
      " [0 0 0 0 0 0 0 0 0 0 0 0 0 1 0 0 0 0]\n",
      " [0 0 0 0 0 0 0 0 0 0 0 0 0 0 1 0 0 0]\n",
      " [0 0 0 0 0 0 0 0 0 0 0 0 0 0 0 1 0 0]\n",
      " [0 0 0 0 0 0 0 0 0 0 0 0 0 0 0 0 1 0]\n",
      " [0 0 0 0 0 0 0 0 0 0 0 0 0 0 0 0 0 1]]\n",
      "              precision    recall  f1-score   support\n",
      "\n",
      "           0       1.00      1.00      1.00         1\n",
      "           1       1.00      1.00      1.00         1\n",
      "           2       1.00      1.00      1.00         1\n",
      "           3       1.00      1.00      1.00         1\n",
      "           4       1.00      1.00      1.00         1\n",
      "           5       1.00      1.00      1.00         1\n",
      "           6       1.00      1.00      1.00         1\n",
      "           7       1.00      1.00      1.00         1\n",
      "           8       1.00      1.00      1.00         1\n",
      "           9       1.00      1.00      1.00         1\n",
      "          10       1.00      1.00      1.00         1\n",
      "          11       1.00      1.00      1.00         1\n",
      "          12       1.00      1.00      1.00         1\n",
      "          13       1.00      1.00      1.00         1\n",
      "          14       1.00      1.00      1.00         1\n",
      "          15       1.00      1.00      1.00         1\n",
      "          16       1.00      1.00      1.00         1\n",
      "          17       1.00      1.00      1.00         1\n",
      "\n",
      "    accuracy                           1.00        18\n",
      "   macro avg       1.00      1.00      1.00        18\n",
      "weighted avg       1.00      1.00      1.00        18\n",
      "\n"
     ]
    }
   ],
   "source": [
    "from sklearn.metrics import classification_report, confusion_matrix\n",
    "\n",
    "Z1 = np.matmul(W1, X_test) + b1\n",
    "A1 = sigmoid(Z1)\n",
    "Z2 = np.matmul(W2, A1) + b2\n",
    "A2 = np.exp(Z2) / np.sum(np.exp(Z2), axis=0)\n",
    "\n",
    "predictions = np.argmax(A2, axis=0)\n",
    "labels = np.argmax(Y_test, axis=0)\n",
    "\n",
    "print(confusion_matrix(predictions, labels))\n",
    "print(classification_report(predictions, labels))"
   ]
  },
  {
   "cell_type": "code",
   "execution_count": 264,
   "metadata": {},
   "outputs": [
    {
     "data": {
      "image/png": "[encoded data removed]",
      "text/plain": [
       "<Figure size 432x288 with 1 Axes>"
      ]
     },
     "metadata": {
      "needs_background": "light"
     },
     "output_type": "display_data"
    }
   ],
   "source": [
    "plt.imshow(X[:,1].reshape(200, 200), cmap ='gray')\n",
    "plt.show()"
   ]
  },
  {
   "cell_type": "markdown",
   "metadata": {},
   "source": [
    "## Sonuç\n",
    "\n",
    "    Confisuon matrixi incelediğimizde f1-score ve diğer sonuçlara göre tüm tahminlerin doğru yapıldığını gözlemliyoruz. Görüntü boyutlarının 200x200 kullanılması ve veri adedinin doğru sonuç için yeterli olduğu görülmüştür. "
   ]
  }
 ],
 "metadata": {
  "kernelspec": {
   "display_name": "Python 3",
   "language": "python",
   "name": "python3"
  },
  "language_info": {
   "codemirror_mode": {
    "name": "ipython",
    "version": 3
   },
   "file_extension": ".py",
   "mimetype": "text/x-python",
   "name": "python",
   "nbconvert_exporter": "python",
   "pygments_lexer": "ipython3",
   "version": "3.9.0"
  }
 },
 "nbformat": 4,
 "nbformat_minor": 4
}
